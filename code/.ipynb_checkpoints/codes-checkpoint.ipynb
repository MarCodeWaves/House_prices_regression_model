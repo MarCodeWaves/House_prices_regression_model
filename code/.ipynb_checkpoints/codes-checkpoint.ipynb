{
 "cells": [
  {
   "cell_type": "code",
   "execution_count": null,
   "metadata": {
    "ExecuteTime": {
     "end_time": "2023-12-18T21:41:41.936466500Z",
     "start_time": "2023-12-18T21:41:41.918411200Z"
    }
   },
   "outputs": [],
   "source": [
    "import matplotlib.pyplot as plt\n",
    "import numpy as np\n",
    "import pandas as pd\n",
    "import scipy.stats as stats\n",
    "import dataset\n"
   ]
  },
  {
   "cell_type": "code",
   "execution_count": null,
   "metadata": {
    "ExecuteTime": {
     "end_time": "2023-12-18T21:41:41.960520400Z",
     "start_time": "2023-12-18T21:41:41.932463700Z"
    }
   },
   "outputs": [],
   "source": [
    "pd.options.mode.chained_assignment = None"
   ]
  },
  {
   "cell_type": "code",
   "execution_count": null,
   "metadata": {
    "ExecuteTime": {
     "end_time": "2023-12-18T21:41:42.018277300Z",
     "start_time": "2023-12-18T21:41:41.960520400Z"
    }
   },
   "outputs": [],
   "source": [
    "data = pd.read_csv('data\\\\Houses.csv', encoding='latin-1')"
   ]
  },
  {
   "cell_type": "code",
   "execution_count": null,
   "metadata": {
    "ExecuteTime": {
     "end_time": "2023-12-18T21:41:42.037691100Z",
     "start_time": "2023-12-18T21:41:42.022299900Z"
    }
   },
   "outputs": [],
   "source": [
    "krakow_data = data[data.city == 'Kraków']\n",
    "krakow_sm_data = krakow_data[krakow_data.address.str.contains('Stare Miasto')]\n",
    "full_dataset = krakow_sm_data[['price', 'sq']]\n",
    "full_dataset = full_dataset.reset_index()\n",
    "print((full_dataset))"
   ]
  },
  {
   "cell_type": "markdown",
   "metadata": {},
   "source": [
    "współczynnik korelacji pearsona"
   ]
  },
  {
   "cell_type": "markdown",
   "metadata": {},
   "source": [
    "This function also performs a test of the null hypothesis that the distributions underlying the samples are uncorrelated and normally distributed."
   ]
  },
  {
   "cell_type": "code",
   "execution_count": null,
   "metadata": {
    "ExecuteTime": {
     "end_time": "2023-12-18T21:41:42.076991100Z",
     "start_time": "2023-12-18T21:41:42.033688300Z"
    }
   },
   "outputs": [],
   "source": [
    "len(full_dataset.sq)"
   ]
  },
  {
   "cell_type": "markdown",
   "metadata": {},
   "source": [
    "# Zadanie 1/2. Wykres rozproszenia danych"
   ]
  },
  {
   "cell_type": "code",
   "execution_count": null,
   "metadata": {},
   "outputs": [],
   "source": [
    "plt.figure(figsize=(10, 6))\n",
    "plt.scatter(full_dataset.sq,full_dataset.price, color='blue', alpha=0.5, s=10)\n",
    "plt.xlabel(\"Powierzchnia mieszkania (m²)\")\n",
    "plt.ylabel(\"Cena mieszkania (zł)\")\n",
    "#plt.title(\"Wykres danych\")\n",
    "plt.grid(True)\n",
    "plt.tight_layout()\n",
    "plt.savefig(\"pictures\\\\wykres_dane.png\")\n",
    "plt.show()"
   ]
  },
  {
   "cell_type": "code",
   "execution_count": null,
   "metadata": {},
   "outputs": [],
   "source": [
    "#plt.scatter(dataset.log_sq,dataset.log_price, c='blue', alpha=0.5, s=10)\n",
    "t = np.array([np.min(data.log_sq), np.max(dataset.log_sq)])\n",
    "\n",
    "\n",
    "plt.figure(figsize=(10,6))\n",
    "plt.scatter(dataset.log_sq,dataset.log_price, color='blue', alpha=0.5, s=10)\n",
    "#plt.plot(t, a_log + b_log * t, \"r--\", linewidth=2.5, label=f'Prosta regresji liniowej')\n",
    "#plt.title('Dopasowanie prostej regresji liniowej do danych')\n",
    "plt.xlabel('ln(x)')\n",
    "_ = plt.ylabel('ln(y)')\n",
    "plt.grid(True)\n",
    "plt.tight_layout()\n",
    "plt.savefig(\"pictures\\\\wykres_zlogarytmowane.png\")\n",
    "plt.show()"
   ]
  },
  {
   "cell_type": "code",
   "execution_count": null,
   "metadata": {},
   "outputs": [],
   "source": [
    "# wspolczynnik kor. pearsona\n",
    "import math\n",
    "x_val = full_dataset.sq\n",
    "y_val = full_dataset.price\n",
    "\n",
    "x = []\n",
    "y = []\n",
    "for i in range(len(x_val)):\n",
    "    el = x_val[i]\n",
    "    el2 = y_val[i]\n",
    "    x.append(el)\n",
    "    y.append(el2)\n",
    "    \n",
    "sr_x = np.mean(x)\n",
    "sr_y = np.mean(y)\n",
    "\n",
    "wsp = np.sum((x-sr_x)*(y-sr_y))/(np.sqrt(np.sum((x-sr_x)**2))*np.sqrt(np.sum((y-sr_y)**2)))\n",
    "wsp\n"
   ]
  },
  {
   "cell_type": "markdown",
   "metadata": {},
   "source": [
    "# Zadanie 3. Statystyki opisowe "
   ]
  },
  {
   "cell_type": "code",
   "execution_count": null,
   "metadata": {},
   "outputs": [],
   "source": [
    "x_values = full_dataset.sq\n",
    "y_values = full_dataset.price\n",
    "\n",
    "print(\"SR I VAR powierzchni: \")\n",
    "\n",
    "# srednia i wariancja x\n",
    "sr_x = np.mean(x_values)\n",
    "var_x = np.var(x_values)\n",
    "moja_var = sum((x_values-sr_x)**2)/len(x_values)\n",
    "print(sr_x,var_x)\n",
    "print(\"\\n\")\n",
    "print(\"SR I VAR cen: \")\n",
    "\n",
    "sr_y = np.mean(y_values)\n",
    "var_y = np.var(y_values)\n",
    "print(sr_y,var_y)\n",
    "\n",
    "\n",
    "print(\"\\n\")\n",
    "print(\"Mediana powierzchni \")\n",
    "\n",
    "# mediana x\n",
    "median_x = np.median(x_values)\n",
    "print(median_x)\n",
    "\n",
    "print(\"\\n\")\n",
    "\n",
    "print(\"Mediana cen \")\n",
    "\n",
    "# mediana y\n",
    "median_y = np.median(y_values)\n",
    "print(median_y)\n",
    "\n",
    "print(\"\\n\")\n",
    "print(\"odch standardowe powierzchni\")\n",
    "\n",
    "# odchylenie standardowe x\n",
    "odch_x = np.std(x_values)\n",
    "print(odch_x)\n",
    "print(\"\\n\")\n",
    "print(\"odchylenie standardowe cen\")\n",
    "# odchylenie standardowe y\n",
    "odch_y = np.std(y_values)\n",
    "print(odch_y)\n",
    "\n",
    "\n",
    "print(\"\\n\")\n",
    "print(\"MIN powierchni\")\n",
    "\n",
    "# minimum x\n",
    "min_x = np.min(x_values)\n",
    "print(min_x)\n",
    "\n",
    "print(\"MAX powierzchni\")\n",
    "# maksimum x\n",
    "max_x = np.max(x_values)\n",
    "print(max_x)\n",
    "\n",
    "print(\"\\n\")\n",
    "\n",
    "\n",
    "print(\"MIN cen\")\n",
    "\n",
    "# minimum y\n",
    "min_y = np.min(y_values)\n",
    "print(min_y)\n",
    "\n",
    "print(\"MAX cen\")\n",
    "\n",
    "# maksimum y\n",
    "max_y = np.max(y_values)\n",
    "print(max_y)\n",
    "\n",
    "\n",
    "print(\"\\n\")\n",
    "print(\"Q1 I Q3 powierchnia\")\n",
    "# pierwszy i trzeci kwartyl x, iqr\n",
    "q1_x = np.quantile(x_values,0.25)\n",
    "q3_x = np.quantile(x_values,0.75)\n",
    "print(q1_x, q3_x)\n",
    "\n",
    "# pierwszy i trzeci kwartyl y, iqr\n",
    "q1_y = np.quantile(y_values,0.25)\n",
    "q3_y = np.quantile(y_values,0.75)\n",
    "\n",
    "print(\"\\n\")\n",
    "print(\"Q1 I Q3 ceny\")\n",
    "print(q1_y, q3_y)\n",
    "print(\"\\n\")\n",
    "\n",
    "print(\"SKOSNOSC powierzchnia\")\n",
    "# skosnosc x\n",
    "skos_x = stats.skew(x_values)\n",
    "\n",
    "print(skos_x)\n",
    "\n",
    "# skosnosc y\n",
    "skos_y = stats.skew(y_values)\n",
    "print(\"\\n\")\n",
    "\n",
    "print(\"SKOSNOSC ceny\")\n",
    "\n",
    "print(skos_y)\n",
    "print(\"\\n\")\n",
    "print(\"KURTOZA powierzchnia\")\n",
    "# kurtoza x\n",
    "kurt_x = stats.kurtosis(x_values)\n",
    "print(kurt_x)\n",
    "\n",
    "print(\"\\n\")\n",
    "print(\"KURTOZA ceny\")\n",
    "# kurtoza y\n",
    "kurt_y = stats.kurtosis(y_values)\n",
    "print(kurt_y)"
   ]
  },
  {
   "cell_type": "code",
   "execution_count": null,
   "metadata": {},
   "outputs": [],
   "source": [
    "# Tworzenie histogramu\n",
    "plt.hist(x_values, bins=26, color = \"C0\", edgecolor='black', alpha=0.7)\n",
    "\n",
    "# Dodawanie etykiet i tytułu\n",
    "plt.xlabel(\"Powierzchnia mieszkania (m²)\")\n",
    "\n",
    "\n",
    "# Dodawanie siatki\n",
    "plt.grid(True, linestyle='--', alpha=0.5)\n",
    "\n",
    "# Dodawanie legendy\n",
    "\n",
    "# Dostosowanie układu, aby uniknąć obcięcia etykiet i legendy\n",
    "plt.tight_layout()\n",
    "plt.title(\"Histogram ilości dla danych niezlogarytmowanych\")\n",
    "\n",
    "# Wyświetlenie wykresu\n",
    "plt.savefig(\"pictures\\\\histogram_powierzchnia.png\", bbox_inches=\"tight\")\n",
    "\n",
    "plt.show()"
   ]
  },
  {
   "cell_type": "code",
   "execution_count": null,
   "metadata": {},
   "outputs": [],
   "source": [
    "plt.boxplot(x_values)\n",
    "plt.title(\"Wykres pudełkowy dla danych niezlogarytmowanych\")\n",
    "\n",
    "plt.savefig(\"pictures\\\\boxplot_powierzchnia.png\")"
   ]
  },
  {
   "cell_type": "code",
   "execution_count": null,
   "metadata": {},
   "outputs": [],
   "source": [
    "# Tworzenie histogramu\n",
    "plt.hist(y_values, bins=26, color = \"C0\", edgecolor='black', alpha=0.7)\n",
    "\n",
    "# Dodawanie etykiet i tytułu\n",
    "plt.xlabel(\"Cena mieszkania (zł)\")\n",
    "\n",
    "\n",
    "# Dodawanie siatki\n",
    "plt.grid(True, linestyle='--', alpha=0.5)\n",
    "\n",
    "# Dodawanie legendy\n",
    "\n",
    "# Dostosowanie układu, aby uniknąć obcięcia etykiet i legendy\n",
    "plt.tight_layout()\n",
    "plt.title(\"Histogram ilości dla danych niezlogarytmowanych\")\n",
    "\n",
    "# Wyświetlenie wykresu\n",
    "plt.savefig(\"pictures\\\\histogram_ceny.png\", bbox_inches=\"tight\")\n",
    "plt.show()"
   ]
  },
  {
   "cell_type": "code",
   "execution_count": null,
   "metadata": {},
   "outputs": [],
   "source": [
    "plt.boxplot(y_values)\n",
    "plt.title(\"Wykres pudełkowy dla danych niezlogarytmowanych\")\n",
    "\n",
    "plt.savefig(\"pictures\\\\boxplot_ceny.png\")"
   ]
  },
  {
   "cell_type": "code",
   "execution_count": null,
   "metadata": {},
   "outputs": [],
   "source": [
    "# z logarytmami\n",
    "\n",
    "dataset['log_sq'] = np.log(dataset.sq)\n",
    "dataset['log_price'] = np.log(dataset.price)\n"
   ]
  },
  {
   "cell_type": "code",
   "execution_count": null,
   "metadata": {},
   "outputs": [],
   "source": [
    "import numpy as np\n",
    "import matplotlib.pyplot as plt\n",
    "from scipy.stats import norm\n",
    "\n",
    "\n",
    "# Tworzenie histogramu\n",
    "plt.hist(dataset.log_sq, bins=26, color = \"C0\", edgecolor='black', alpha=0.7)\n",
    "# Dodawanie etykiet i tytułu\n",
    "plt.xlabel(\"Powierzchnia mieszkania (m²)\")\n",
    "\n",
    "\n",
    "# Dodawanie siatki\n",
    "plt.grid(True, linestyle='--', alpha=0.5)\n",
    "\n",
    "# Dodawanie legendy\n",
    "\n",
    "# Dostosowanie układu, aby uniknąć obcięcia etykiet i legendy\n",
    "plt.tight_layout()\n",
    "plt.title(\"Histogram ilości dla danych zlogarytmowanych\")\n",
    "\n",
    "# Wyświetlenie wykresu\n",
    "plt.savefig(\"pictures\\\\histogram_powierzchnia_log.png\", bbox_inches=\"tight\")\n",
    "\n",
    "plt.show()"
   ]
  },
  {
   "cell_type": "code",
   "execution_count": null,
   "metadata": {},
   "outputs": [],
   "source": [
    "# Tworzenie histogramu\n",
    "plt.hist(dataset.log_price, bins=26, color = \"C0\", edgecolor='black', alpha=0.7)\n",
    "\n",
    "# Dodawanie etykiet i tytułu\n",
    "plt.xlabel(\"Cena mieszkania (zł)\")\n",
    "\n",
    "\n",
    "# Dodawanie siatki\n",
    "plt.grid(True, linestyle='--', alpha=0.5)\n",
    "\n",
    "# Dodawanie legendy\n",
    "\n",
    "# Dostosowanie układu, aby uniknąć obcięcia etykiet i legendy\n",
    "plt.tight_layout()\n",
    "plt.title(\"Histogram ilości dla danych zlogarytmowanych\")\n",
    "# Wyświetlenie wykresu\n",
    "plt.savefig(\"pictures\\\\histogram_cena_log.png\", bbox_inches=\"tight\")\n",
    "\n",
    "plt.show()"
   ]
  },
  {
   "cell_type": "code",
   "execution_count": null,
   "metadata": {},
   "outputs": [],
   "source": [
    "plt.boxplot(dataset.log_sq)\n",
    "plt.title(\"Wykres pudełkowy dla danych zlogarytmowanych\")\n",
    "plt.savefig(\"pictures\\\\boxplot_powierzchnia_log.png\")"
   ]
  },
  {
   "cell_type": "code",
   "execution_count": null,
   "metadata": {},
   "outputs": [],
   "source": [
    "plt.boxplot(dataset.log_sq)\n",
    "plt.title(\"Wykres pudełkowy dla danych zlogarytmowanych\")\n",
    "\n",
    "plt.savefig(\"pictures\\\\boxplot_cen_log.png\")"
   ]
  },
  {
   "cell_type": "code",
   "execution_count": null,
   "metadata": {},
   "outputs": [],
   "source": [
    "x_values = dataset.log_sq\n",
    "y_values = dataset.log_price\n",
    "print(\"SKOSNOSC log powierzchnia\")\n",
    "# skosnosc x\n",
    "skos_x = stats.skew(x_values)\n",
    "\n",
    "print(skos_x)\n",
    "\n",
    "# skosnosc y\n",
    "skos_y = stats.skew(y_values)\n",
    "print(\"\\n\")\n",
    "\n",
    "print(\"SKOSNOSC log ceny\")\n",
    "\n",
    "print(skos_y)\n",
    "print(\"\\n\")\n",
    "print(\"KURTOZA log powierzchnia\")\n",
    "# kurtoza x\n",
    "kurt_x = stats.kurtosis(x_values)\n",
    "print(kurt_x)\n",
    "\n",
    "print(\"\\n\")\n",
    "print(\"KURTOZA log ceny\")\n",
    "# kurtoza y\n",
    "\n",
    "kurt_y = stats.kurtosis(y_values)\n",
    "print(kurt_y)"
   ]
  },
  {
   "cell_type": "markdown",
   "metadata": {},
   "source": [
    "## Zadanie 4. Prosta regresji liniowej"
   ]
  },
  {
   "cell_type": "code",
   "execution_count": null,
   "metadata": {
    "ExecuteTime": {
     "end_time": "2023-12-18T21:41:42.076991100Z",
     "start_time": "2023-12-18T21:41:42.052158400Z"
    }
   },
   "outputs": [],
   "source": [
    "size = full_dataset.shape[0]\n",
    "test_size = int(size * 0.1)\n",
    "test_dataset = full_dataset.loc[size-test_size:, :]\n",
    "dataset = full_dataset.loc[:size-test_size - 1, :]"
   ]
  },
  {
   "cell_type": "code",
   "execution_count": null,
   "metadata": {
    "ExecuteTime": {
     "end_time": "2023-12-18T21:41:42.092937200Z",
     "start_time": "2023-12-18T21:41:42.067984700Z"
    }
   },
   "outputs": [],
   "source": [
    "def linear_regression(x, y):\n",
    "    b1 = sum((x - np.mean(x)) * y) / sum((x - np.mean(x)) ** 2)\n",
    "    b0 = np.mean(y) - b1 * np.mean(x)\n",
    "    return b0, b1"
   ]
  },
  {
   "cell_type": "markdown",
   "metadata": {},
   "source": [
    "### Bez logarytmów"
   ]
  },
  {
   "cell_type": "code",
   "execution_count": null,
   "metadata": {
    "ExecuteTime": {
     "end_time": "2023-12-18T21:41:42.110172100Z",
     "start_time": "2023-12-18T21:41:42.082290700Z"
    }
   },
   "outputs": [],
   "source": [
    "a1, b1 = linear_regression(dataset.sq, dataset.price)\n",
    "a1,b1"
   ]
  },
  {
   "cell_type": "code",
   "execution_count": null,
   "metadata": {
    "ExecuteTime": {
     "end_time": "2023-12-18T21:41:42.169783400Z",
     "start_time": "2023-12-18T21:41:42.101126600Z"
    }
   },
   "outputs": [],
   "source": [
    "r = 1 - np.sum((dataset.price - (a1 + b1 * dataset.sq)) ** 2) / np.sum((dataset.price - np.mean(dataset.price)) ** 2)\n",
    "print(r)"
   ]
  },
  {
   "cell_type": "code",
   "execution_count": null,
   "metadata": {
    "ExecuteTime": {
     "end_time": "2023-12-18T21:41:42.170783200Z",
     "start_time": "2023-12-18T21:41:42.114567600Z"
    }
   },
   "outputs": [],
   "source": [
    "a, b = linear_regression(dataset.sq, dataset.price)\n",
    "a,b"
   ]
  },
  {
   "cell_type": "code",
   "execution_count": null,
   "metadata": {
    "ExecuteTime": {
     "end_time": "2023-12-18T21:41:42.415321700Z",
     "start_time": "2023-12-18T21:41:42.130117500Z"
    }
   },
   "outputs": [],
   "source": [
    "\n",
    "# Dopasowanie prostej regresji liniowej\n",
    "beta_1 = np.sum((x_values - np.mean(x_values)) * (y_values - np.mean(y_values))) / np.sum((x_values - np.mean(x_values))**2)\n",
    "beta_0 = np.mean(y_values) - beta_1 * np.mean(x_values)\n",
    "\n",
    "# Generowanie wartości do wykresu prostej regresji\n",
    "x_range = np.linspace(min(x_values), max(x_values), len(x_values))\n",
    "y_estimated = beta_0 + beta_1 * x_range\n",
    "\n",
    "# Wzór prostej regresji\n",
    "line_eq = f'y = {beta_0:.2f} + {beta_1:.2f}x'\n",
    "print(line_eq)\n",
    "# Wykres\n",
    "plt.figure(figsize=(10,6))\n",
    "plt.scatter(x_values, y_values, color='blue', alpha=0.5, s=10, label=\"Dane\")\n",
    "plt.plot(x_range, y_estimated, \"r--\", linewidth=2.5, label=f'Prosta regresji liniowej')\n",
    "#plt.title('Dopasowanie prostej regresji liniowej do danych')\n",
    "plt.xlabel(\"Powierzchnia mieszkania (m²)\")\n",
    "plt.ylabel(\"Cena mieszkania (zł)\")\n",
    "plt.grid(True)\n",
    "plt.legend()\n",
    "plt.tight_layout()\n",
    "plt.savefig(\"pictures\\\\wykres_prosta_regresji.png\")\n",
    "plt.show()"
   ]
  },
  {
   "cell_type": "markdown",
   "metadata": {},
   "source": [
    "### Z logarytmami"
   ]
  },
  {
   "cell_type": "code",
   "execution_count": null,
   "metadata": {
    "ExecuteTime": {
     "end_time": "2023-12-18T21:41:42.546010200Z",
     "start_time": "2023-12-18T21:41:42.413321600Z"
    }
   },
   "outputs": [],
   "source": [
    "dataset['log_sq'] = np.log(dataset.sq)\n",
    "dataset['log_price'] = np.log(dataset.price)\n"
   ]
  },
  {
   "cell_type": "code",
   "execution_count": null,
   "metadata": {
    "ExecuteTime": {
     "end_time": "2023-12-18T21:41:42.546010200Z",
     "start_time": "2023-12-18T21:41:42.428116100Z"
    }
   },
   "outputs": [],
   "source": [
    "a_log, b_log = linear_regression(dataset.log_sq, dataset.log_price)\n",
    "a_log,b_log"
   ]
  },
  {
   "cell_type": "code",
   "execution_count": null,
   "metadata": {
    "ExecuteTime": {
     "end_time": "2023-12-18T21:41:42.690929700Z",
     "start_time": "2023-12-18T21:41:42.443122200Z"
    }
   },
   "outputs": [],
   "source": [
    "#plt.scatter(dataset.log_sq,dataset.log_price, c='blue', alpha=0.5, s=10)\n",
    "t = np.array([np.min(dataset.log_sq), np.max(dataset.log_sq)])\n",
    "\n",
    "\n",
    "plt.figure(figsize=(10,6))\n",
    "plt.scatter(dataset.log_sq,dataset.log_price, color='blue', alpha=0.5, s=10, label=\"Dane zlogarytmowane\")\n",
    "plt.plot(t, a_log + b_log * t, \"r--\", linewidth=2.5, label=f'Prosta regresji liniowej')\n",
    "#plt.title('Dopasowanie prostej regresji liniowej do danych')\n",
    "plt.xlabel('ln(x)')\n",
    "_ = plt.ylabel('ln(y)')\n",
    "plt.grid(True)\n",
    "plt.legend()\n",
    "plt.tight_layout()\n",
    "plt.savefig(\"pictures\\\\wykres_prosta_regresji_logarytm.png\")\n",
    "\n",
    "plt.show()"
   ]
  },
  {
   "cell_type": "markdown",
   "metadata": {},
   "source": [
    "### Zadanie 5. Przedziały ufności"
   ]
  },
  {
   "cell_type": "code",
   "execution_count": null,
   "metadata": {
    "ExecuteTime": {
     "end_time": "2023-12-18T21:41:42.768814700Z",
     "start_time": "2023-12-18T21:41:42.690929700Z"
    }
   },
   "outputs": [],
   "source": [
    "def S(b0_est, b1_est, x, y): # estymator wariancji\n",
    "    m = len(x)\n",
    "    return np.sqrt(np.sum((y - b0_est - b1_est * x)**2) / (m - 2))"
   ]
  },
  {
   "cell_type": "code",
   "execution_count": null,
   "metadata": {
    "ExecuteTime": {
     "end_time": "2023-12-18T21:41:42.768814700Z",
     "start_time": "2023-12-18T21:41:42.705643400Z"
    }
   },
   "outputs": [],
   "source": [
    "n = len(dataset.sq)\n",
    "alpha = 0.05"
   ]
  },
  {
   "cell_type": "markdown",
   "metadata": {},
   "source": [
    "### Bez logarytmów"
   ]
  },
  {
   "cell_type": "code",
   "execution_count": null,
   "metadata": {
    "ExecuteTime": {
     "end_time": "2023-12-18T21:41:42.768814700Z",
     "start_time": "2023-12-18T21:41:42.721641200Z"
    }
   },
   "outputs": [],
   "source": [
    "s = S(a, b, dataset.sq, dataset.price)"
   ]
  },
  {
   "cell_type": "markdown",
   "metadata": {},
   "source": [
    "przedział ufności dla b1"
   ]
  },
  {
   "cell_type": "code",
   "execution_count": null,
   "metadata": {
    "ExecuteTime": {
     "end_time": "2023-12-18T21:41:42.769903600Z",
     "start_time": "2023-12-18T21:41:42.737504Z"
    }
   },
   "outputs": [],
   "source": [
    "dummy_b1 = stats.t.ppf(1 - alpha/2, n-2) * s / np.sqrt(np.sum((dataset.sq - np.mean(dataset.sq))**2))"
   ]
  },
  {
   "cell_type": "code",
   "execution_count": null,
   "metadata": {
    "ExecuteTime": {
     "end_time": "2023-12-18T21:41:42.770913500Z",
     "start_time": "2023-12-18T21:41:42.752964600Z"
    }
   },
   "outputs": [],
   "source": [
    "b - dummy_b1, b + dummy_b1"
   ]
  },
  {
   "cell_type": "markdown",
   "metadata": {},
   "source": [
    "przedział ufności dla b0"
   ]
  },
  {
   "cell_type": "code",
   "execution_count": null,
   "metadata": {
    "ExecuteTime": {
     "end_time": "2023-12-18T21:41:42.790954100Z",
     "start_time": "2023-12-18T21:41:42.769903600Z"
    }
   },
   "outputs": [],
   "source": [
    "dummy_b0 = stats.t.ppf(1-alpha/2, n-2) * s * np.sqrt(1/n + np.mean(dataset.sq)**2/np.sum((dataset.sq - np.mean(dataset.sq))**2))"
   ]
  },
  {
   "cell_type": "code",
   "execution_count": null,
   "metadata": {
    "ExecuteTime": {
     "end_time": "2023-12-18T21:41:42.889152500Z",
     "start_time": "2023-12-18T21:41:42.784585100Z"
    }
   },
   "outputs": [],
   "source": [
    "a - dummy_b0, a + dummy_b0"
   ]
  },
  {
   "cell_type": "markdown",
   "metadata": {},
   "source": [
    "### Z logarytmami"
   ]
  },
  {
   "cell_type": "code",
   "execution_count": null,
   "metadata": {
    "ExecuteTime": {
     "end_time": "2023-12-18T21:41:42.908813500Z",
     "start_time": "2023-12-18T21:41:42.800838500Z"
    }
   },
   "outputs": [],
   "source": [
    "s_log = S(a_log, b_log, dataset.log_sq, dataset.log_price)"
   ]
  },
  {
   "cell_type": "markdown",
   "metadata": {},
   "source": [
    "dla b1_log"
   ]
  },
  {
   "cell_type": "code",
   "execution_count": null,
   "metadata": {
    "ExecuteTime": {
     "end_time": "2023-12-18T21:41:42.913834Z",
     "start_time": "2023-12-18T21:41:42.816584400Z"
    }
   },
   "outputs": [],
   "source": [
    "dummy_b1_log = stats.t.ppf(1 - alpha / 2, n - 2) * s_log / np.sqrt(np.sum((dataset.log_sq - np.mean(dataset.log_sq)) ** 2))\n",
    "b_log - dummy_b1_log, b_log + dummy_b1_log"
   ]
  },
  {
   "cell_type": "markdown",
   "metadata": {},
   "source": [
    "dla b0_log"
   ]
  },
  {
   "cell_type": "code",
   "execution_count": null,
   "metadata": {
    "ExecuteTime": {
     "end_time": "2023-12-18T21:41:42.914851100Z",
     "start_time": "2023-12-18T21:41:42.895310100Z"
    }
   },
   "outputs": [],
   "source": [
    "dummy_b0_log = stats.t.ppf(1 - alpha / 2, n - 2) * s_log * np.sqrt(1 / n + np.mean(dataset.log_sq) ** 2 / np.sum((dataset.log_sq - np.mean(dataset.log_sq)) ** 2))\n",
    "a_log - dummy_b0_log, a_log + dummy_b0_log"
   ]
  },
  {
   "cell_type": "markdown",
   "metadata": {},
   "source": [
    "## Zadanie 6. Analiza residuów"
   ]
  },
  {
   "cell_type": "markdown",
   "metadata": {},
   "source": [
    "### Bez logarytmów"
   ]
  },
  {
   "cell_type": "code",
   "execution_count": null,
   "metadata": {
    "ExecuteTime": {
     "end_time": "2023-12-18T21:41:43.013797500Z",
     "start_time": "2023-12-18T21:41:42.910833800Z"
    }
   },
   "outputs": [],
   "source": [
    "dataset['price_est'] = a + b * dataset.sq  # estymatory Y\n",
    "dataset['e'] = dataset.price - dataset.price_est  # residua"
   ]
  },
  {
   "cell_type": "code",
   "execution_count": null,
   "metadata": {
    "ExecuteTime": {
     "end_time": "2023-12-18T21:41:44.201006200Z",
     "start_time": "2023-12-18T21:41:42.928579800Z"
    }
   },
   "outputs": [],
   "source": [
    "fig = plt.figure(figsize=(10,6))\n",
    "#plt.title('Residua $e_i$ dla $\\hat{y}_i$')\n",
    "plt.ylabel('$e$')\n",
    "plt.xlabel(\"$\\hat{y_i}$\")\n",
    "#plt.scatter(np.arange(0,n,1), dataset.e, color='green', alpha=0.5, s=15, label=\"Dane\")\n",
    "plt.scatter(dataset.price_est, dataset.e, color='green', alpha=0.5, s=15)\n",
    "plt.plot(dataset.price_est, np.full_like(dataset.e, np.mean(dataset.e)), color = \"orange\", label =\"Średnia residuów\")\n",
    "plt.grid()\n",
    "plt.legend()\n",
    "plt.savefig('pictures\\\\residual_vs_fitted.png')"
   ]
  },
  {
   "cell_type": "code",
   "execution_count": null,
   "metadata": {
    "ExecuteTime": {
     "end_time": "2023-12-18T21:41:44.214356200Z",
     "start_time": "2023-12-18T21:41:44.202006Z"
    }
   },
   "outputs": [],
   "source": [
    "np.mean(dataset.e) # Średnia blisko 0"
   ]
  },
  {
   "cell_type": "code",
   "execution_count": null,
   "metadata": {
    "ExecuteTime": {
     "end_time": "2023-12-18T21:41:44.389415900Z",
     "start_time": "2023-12-18T21:41:44.214356200Z"
    }
   },
   "outputs": [],
   "source": [
    "\n",
    "plt.boxplot(dataset.e)\n",
    "#_ = plt.title('Wykres pudełkowy residuów')\n",
    "plt.savefig(\"pictures\\\\residua_boxplo.png\")"
   ]
  },
  {
   "cell_type": "code",
   "execution_count": null,
   "metadata": {
    "ExecuteTime": {
     "end_time": "2023-12-18T21:41:44.410784200Z",
     "start_time": "2023-12-18T21:41:44.384365Z"
    }
   },
   "outputs": [],
   "source": [
    "print(stats.kstest((dataset.e - np.mean(dataset.e))/np.std(dataset.e), 'norm')) # nie mają rozkładu normalnego\n",
    "print(stats.jarque_bera((dataset.e - np.mean(dataset.e))/np.std(dataset.e)))"
   ]
  },
  {
   "cell_type": "code",
   "execution_count": null,
   "metadata": {
    "ExecuteTime": {
     "end_time": "2023-12-18T21:41:44.482129600Z",
     "start_time": "2023-12-18T21:41:44.400966700Z"
    }
   },
   "outputs": [],
   "source": [
    "import seaborn as sns"
   ]
  },
  {
   "cell_type": "code",
   "execution_count": null,
   "metadata": {
    "ExecuteTime": {
     "end_time": "2023-12-18T21:41:44.821933300Z",
     "start_time": "2023-12-18T21:41:44.417625100Z"
    }
   },
   "outputs": [],
   "source": [
    "sns.ecdfplot((dataset.e - np.mean(dataset.e))/np.std(dataset.e))\n",
    "t = np.linspace(np.min((dataset.e - np.mean(dataset.e))/np.std(dataset.e)), np.max((dataset.e - np.mean(dataset.e))/np.std(dataset.e)), 100)\n",
    "plt.plot(t, stats.norm.cdf(t))\n",
    "plt.legend(['Dystrybuanta empiryczna $Z$', 'Dystrybuanta rozkładu $\\mathcal{N}{(0, 1)}$'])\n",
    "plt.xlabel('$z_i$')\n",
    "plt.grid()\n",
    "plt.savefig('pictures\\\\dystrybuanty.png')"
   ]
  },
  {
   "cell_type": "markdown",
   "metadata": {},
   "source": [
    "Nie ma rozkładu normalnego."
   ]
  },
  {
   "cell_type": "markdown",
   "metadata": {},
   "source": [
    "\n",
    "### Z logarytmami"
   ]
  },
  {
   "cell_type": "markdown",
   "metadata": {},
   "source": [
    "Często w przypadku heteroskedaktyczności jest logarytmowana zmienna objaśniana, żeby zmniejszyć lub zlikwidować efekt."
   ]
  },
  {
   "cell_type": "code",
   "execution_count": null,
   "metadata": {
    "ExecuteTime": {
     "end_time": "2023-12-18T21:41:44.833870500Z",
     "start_time": "2023-12-18T21:41:44.819701200Z"
    }
   },
   "outputs": [],
   "source": [
    "dataset['price_est_log'] = a_log + b_log * dataset.log_sq # estymatory Y\n",
    "dataset['e_log'] = dataset.log_price - dataset.price_est_log  # residua"
   ]
  },
  {
   "cell_type": "code",
   "execution_count": null,
   "metadata": {
    "ExecuteTime": {
     "end_time": "2023-12-18T21:42:35.453151400Z",
     "start_time": "2023-12-18T21:42:34.627925500Z"
    }
   },
   "outputs": [],
   "source": [
    "fig2 = plt.figure(figsize=(10,6))\n",
    "#plt.title('Residua $e^{ln}_i$ dla $\\hat{y^{ln}}_i$')\n",
    "plt.ylabel(\"$e^{'}$\")\n",
    "plt.xlabel(\"$\\hat{y^{'}_i}$\")\n",
    "plt.plot(dataset.price_est_log, np.full_like(dataset.e, np.mean(dataset.e)), color = \"orange\", label =\"Średnia zlogarytmowanych residuów\")\n",
    "\n",
    "plt.scatter(dataset.price_est_log, dataset.e_log, c='green', s=40, alpha=0.5)\n",
    "plt.grid()\n",
    "plt.legend()\n",
    "plt.savefig('pictures\\\\residual_vs_fitted_logarytmowane.png')"
   ]
  },
  {
   "cell_type": "code",
   "execution_count": null,
   "metadata": {
    "ExecuteTime": {
     "end_time": "2023-12-18T21:41:45.459631900Z",
     "start_time": "2023-12-18T21:41:45.273181100Z"
    }
   },
   "outputs": [],
   "source": [
    "plt.boxplot(dataset.e_log)\n",
    "#_ = plt.title('Wykres pudełkowy residuów') # znacznie mniej, niż w poprzednim przypadku\n",
    "plt.savefig(\"pictures\\\\log_residua_boxplot.png\")"
   ]
  },
  {
   "cell_type": "code",
   "execution_count": null,
   "metadata": {
    "ExecuteTime": {
     "end_time": "2023-12-18T21:41:45.546154100Z",
     "start_time": "2023-12-18T21:41:45.462259Z"
    }
   },
   "outputs": [],
   "source": [
    "np.mean(dataset.e_log)"
   ]
  },
  {
   "cell_type": "code",
   "execution_count": null,
   "metadata": {
    "ExecuteTime": {
     "end_time": "2023-12-18T21:41:45.547156100Z",
     "start_time": "2023-12-18T21:41:45.476865200Z"
    }
   },
   "outputs": [],
   "source": [
    "np.var(dataset.e_log)"
   ]
  },
  {
   "cell_type": "code",
   "execution_count": null,
   "metadata": {
    "ExecuteTime": {
     "end_time": "2023-12-18T21:41:45.548152800Z",
     "start_time": "2023-12-18T21:41:45.493302100Z"
    }
   },
   "outputs": [],
   "source": [
    "stats.kstest((dataset.e_log - np.mean(dataset.e_log))/np.std(dataset.e_log), 'norm')"
   ]
  },
  {
   "cell_type": "code",
   "execution_count": null,
   "metadata": {
    "ExecuteTime": {
     "end_time": "2023-12-18T21:41:45.548152800Z",
     "start_time": "2023-12-18T21:41:45.508240900Z"
    }
   },
   "outputs": [],
   "source": [
    "stats.jarque_bera((dataset.e_log - np.mean(dataset.e_log))/np.std(dataset.e_log))"
   ]
  },
  {
   "cell_type": "code",
   "execution_count": null,
   "metadata": {
    "ExecuteTime": {
     "end_time": "2023-12-18T21:41:46.408948100Z",
     "start_time": "2023-12-18T21:41:45.526411300Z"
    }
   },
   "outputs": [],
   "source": [
    "fig4, (ax1, ax2) = plt.subplots(1, 2, figsize=(14, 6))\n",
    "fig.suptitle('Horizontally stacked subplots')\n",
    "e_log_normalized = (dataset.e_log - np.mean(dataset.e_log))/np.std(dataset.e_log)\n",
    "sns.ecdfplot(e_log_normalized, ax=ax1)\n",
    "t = np.linspace(np.min(e_log_normalized), np.max(e_log_normalized), 100)\n",
    "ax1.plot(t, stats.norm.cdf(t))\n",
    "ax1.legend(['dystrybuanta empiryczna $Z$', 'dystrybuanta rozkładu $\\mathcal{N}{(0, 1)}$'])\n",
    "ax1.set_xlabel('$z_{ln}$')\n",
    "ax2.hist(e_log_normalized, density=True, bins=30)\n",
    "ax2.plot(t, stats.norm.pdf(t))\n",
    "ax2.set_xlabel('$z_{ln}$')\n",
    "ax2.legend(['gęstość rozkładu $\\mathcal{N}{(0, 1)}$', 'histogram gęstości $Z$'])\n",
    "#plt.savefig('pictures\\\\distribution.pdf')"
   ]
  },
  {
   "cell_type": "markdown",
   "metadata": {},
   "source": [
    "## Zadanie 7. Prognoza przyszłej wartości $Y{(x_0)}$"
   ]
  },
  {
   "cell_type": "code",
   "execution_count": null,
   "metadata": {
    "ExecuteTime": {
     "end_time": "2023-12-18T21:41:46.421097300Z",
     "start_time": "2023-12-18T21:41:46.406949300Z"
    }
   },
   "outputs": [],
   "source": [
    "def confidence_interval(Y_est, s, x0, x, alpha=0.05):\n",
    "    m = len(x)\n",
    "    dummy1 = 1 + 1/m + (x0 - np.mean(x)) ** 2 / np.sum((x0 - np.mean(x)) ** 2)\n",
    "    dummy2 = stats.t.ppf(1-alpha/2, m-2) * s * np.sqrt(dummy1)\n",
    "    return Y_est - dummy2, Y_est + dummy2"
   ]
  },
  {
   "cell_type": "markdown",
   "metadata": {},
   "source": [
    "### Część 1 - bez logarytmów"
   ]
  },
  {
   "cell_type": "code",
   "execution_count": null,
   "metadata": {},
   "outputs": [],
   "source": []
  },
  {
   "cell_type": "code",
   "execution_count": null,
   "metadata": {
    "ExecuteTime": {
     "end_time": "2023-12-18T21:41:46.576438Z",
     "start_time": "2023-12-18T21:41:46.422099800Z"
    }
   },
   "outputs": [],
   "source": [
    "s = S(a, b, dataset.log_sq, dataset.log_price)\n",
    "confidence_intervals = [confidence_interval(a + b * new_surface, s, new_surface, dataset.sq, alpha=0.05) for new_surface in test_dataset.sq]\n"
   ]
  },
  {
   "cell_type": "code",
   "execution_count": null,
   "metadata": {
    "ExecuteTime": {
     "end_time": "2023-12-18T21:41:46.577801500Z",
     "start_time": "2023-12-18T21:41:46.453006300Z"
    }
   },
   "outputs": [],
   "source": [
    "counter = 0\n",
    "for interval, new_price in zip(confidence_intervals, test_dataset.price):\n",
    "    if interval[0] <= new_price <= interval[1]:\n",
    "        counter += 1"
   ]
  },
  {
   "cell_type": "code",
   "execution_count": null,
   "metadata": {
    "ExecuteTime": {
     "end_time": "2023-12-18T21:41:46.578814300Z",
     "start_time": "2023-12-18T21:41:46.468893100Z"
    }
   },
   "outputs": [],
   "source": [
    "counter/test_size"
   ]
  },
  {
   "cell_type": "markdown",
   "metadata": {},
   "source": [
    "### Część 2 - z logarytmami"
   ]
  },
  {
   "cell_type": "code",
   "execution_count": null,
   "metadata": {
    "ExecuteTime": {
     "end_time": "2023-12-18T21:41:46.578814300Z",
     "start_time": "2023-12-18T21:41:46.484093500Z"
    }
   },
   "outputs": [],
   "source": [
    "test_dataset['log_price'] = np.log(test_dataset.price)\n",
    "test_dataset['log_sq'] = np.log(test_dataset.sq)"
   ]
  },
  {
   "cell_type": "code",
   "execution_count": null,
   "metadata": {
    "ExecuteTime": {
     "end_time": "2023-12-18T21:41:46.578814300Z",
     "start_time": "2023-12-18T21:41:46.498717400Z"
    }
   },
   "outputs": [],
   "source": [
    "confidence_intervals_log = [confidence_interval(a_log + b_log * new_surface, s_log, new_surface, dataset.log_sq, alpha=0.05) for new_surface in test_dataset.log_sq]"
   ]
  },
  {
   "cell_type": "code",
   "execution_count": null,
   "metadata": {
    "ExecuteTime": {
     "end_time": "2023-12-18T21:41:46.578814300Z",
     "start_time": "2023-12-18T21:41:46.529861500Z"
    }
   },
   "outputs": [],
   "source": [
    "counter = 0\n",
    "for interval, new_price in zip(confidence_intervals_log, test_dataset.log_price):\n",
    "    if interval[0] <= new_price <= interval[1]:\n",
    "        counter += 1"
   ]
  },
  {
   "cell_type": "code",
   "execution_count": null,
   "metadata": {
    "ExecuteTime": {
     "end_time": "2023-12-18T21:41:46.579856600Z",
     "start_time": "2023-12-18T21:41:46.547311300Z"
    }
   },
   "outputs": [],
   "source": [
    "counter/test_size"
   ]
  },
  {
   "cell_type": "code",
   "execution_count": null,
   "metadata": {},
   "outputs": [],
   "source": []
  }
 ],
 "metadata": {
  "kernelspec": {
   "display_name": "Python 3 (ipykernel)",
   "language": "python",
   "name": "python3"
  },
  "language_info": {
   "codemirror_mode": {
    "name": "ipython",
    "version": 3
   },
   "file_extension": ".py",
   "mimetype": "text/x-python",
   "name": "python",
   "nbconvert_exporter": "python",
   "pygments_lexer": "ipython3",
   "version": "3.9.13"
  }
 },
 "nbformat": 4,
 "nbformat_minor": 1
}
